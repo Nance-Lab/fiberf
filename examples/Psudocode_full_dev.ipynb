{
 "cells": [
  {
   "cell_type": "markdown",
   "metadata": {},
   "source": [
    "# Purpose: To build out the skeleton Pseudo Code for this project"
   ]
  },
  {
   "cell_type": "markdown",
   "metadata": {},
   "source": [
    "__For now__: Moving my notes from my one one one with Elizabeth and will build out more in the next few days"
   ]
  },
  {
   "cell_type": "markdown",
   "metadata": {},
   "source": [
    "1. Input .csv from experimental team to describe data\n",
    "2. CSV pulls the proper images from NDP (or wherever best storage location is determined to be)\n",
    "2a. There needs to be some integration with NDP to break the image into chunks with the appropriate zoom and then provide the original slice with locations of test and training images printed out.\n",
    "2b. I think to do this we are going to have to register the image to some kind of atlas... or somethign to determine regions so that the code can grab pictures\n",
    "3. Images need to be split\n",
    "3a. Regionally\n",
    "3b. Test Groups\n",
    "3c. Into Small enough sizes for most efficient processing by package\n",
    "3d. Magifications\n",
    "4. Threshold and segment\n",
    "4a. Ifthresholds (for general object identification) [July]\n",
    "4b. + Skeletonization (for specific highly branched morphometric analysis) [Robin]\n",
    "5. Split data into testing and training groups\n",
    "6. Shape factor analysis on both models (before ML model)\n",
    "7. Feed 4(1) and 4(2) separately to modified VAMPIRE package to build models\n",
    "8. Store created models\n",
    "9. Test models with testing data sets\n",
    "10. Data output\n",
    "11. Comprehensive CSV for optional additional analysis\n",
    "12. Data Visualization\n",
    "13. Save all data into some storage location (Google Drive?)\n",
    "\n",
    "\n",
    "Other Notes: \n",
    "1. Modified VAMPIRE package: Worth forking the Wirtz lab repository now and building on by ourselves possibly – adding that fork to our repository - COMPLETE\n",
    "2. Want a repository that works through Binder? Preferably so the Neonatalogy lab can do this straight through a web interface\n",
    "3. Along with outputs want to output the variables used for all of the steps on days that experiments were run with an easy print out maybe for lab notebook storage? (A way to integrate the electronic lab notebook I want to get more fine tuned for our lab with a standard lab notebook - and provide some under the hood knowledge for Neonatology)\n",
    "\n",
    "4. Add in an optimization step for what size of image is sufficient for cropping down the whole scan images \n",
    "5. Including an analysis before creating that analysis that selects the best # of shape modes and #coordinate points – maybe we could reach out the Denis Wirtz lab about this or build in our own integration\n",
    "\n"
   ]
  },
  {
   "cell_type": "markdown",
   "metadata": {},
   "source": [
    "Current Goal:\n",
    "\n",
    "1. Get a bunch of images from a slice of the ferret brain\n",
    "2. Put them in a folder\n",
    "3. Perform thresholding within the Jupyter Notebook\n",
    "3. Integrate vampire into the Jupyter Notebook\n",
    "4. Run those images and get an output within the notebook or specific folder (which should will need a results output)\n",
    "5. Save all of this information to some results folder\n",
    "6. See if it works in binder"
   ]
  },
  {
   "cell_type": "markdown",
   "metadata": {},
   "source": [
    "Next Goals:\n",
    "1. Build out ifthresholds more for immunohistochemistry stains\n",
    "2. Build in NDP regional registration and automatic image breakdown\n",
    "3. Integrate Google Drive\n",
    "4. New visualizations based on what came from paper\n",
    "5. Statistics possibly with Rthon\n",
    "6. Speed up any slow processes with Cython\n",
    "7. Integrate ifThresholds to pick and perform the best thresholding (or integrate a step to say whether this needs to be done or not)"
   ]
  },
  {
   "cell_type": "markdown",
   "metadata": {},
   "source": [
    "*Step 1: Import necessary packages*"
   ]
  },
  {
   "cell_type": "markdown",
   "metadata": {},
   "source": [
    "If import shows ERROR:\n",
    "\n",
    "\"Could not find Java JRE compatible with x86_64 architecture\" then close out of jupyter lab and exit that terminal window. Start a new window and before accessing Jupyter Lab fix the Java home\n",
    "\n",
    "http://www.sajeconsultants.com/how-to-set-java_home-on-mac-os-x/?utm_source=rss&utm_medium=rss&utm_campaign=how-to-set-java_home-on-mac-os-x\n",
    "\n",
    "' export JAVA_HOME=/Library/Java/JavaVirtualMachines/jdk-14.0.1.jdk/Contents/Home'\n",
    "\n",
    "' echo $JAVA_HOME'"
   ]
  },
  {
   "cell_type": "code",
   "execution_count": 112,
   "metadata": {},
   "outputs": [],
   "source": [
    "import numpy as np\n",
    "import os\n",
    "import pandas as pd\n",
    "\n",
    "from skimage import io\n",
    "from skimage import filters\n",
    "from skimage import measure\n",
    "from skimage import morphology\n",
    "from skimage import segmentation\n",
    "from skimage import color\n",
    "\n",
    "%matplotlib inline\n",
    "import matplotlib.pyplot as plt\n",
    "plt.style.use('seaborn-white')\n",
    "\n",
    "from PIL import Image\n",
    "\n",
    "import cellprofiler.modules.threshold as cpmthreshold\n",
    "import cellprofiler.modules.identifyprimaryobjects as cpm_ipo\n",
    "import cellprofiler_core\n",
    "import cellprofiler_core.workspace as workspace\n",
    "import cellprofiler_core.image as cpimage\n",
    "import cellprofiler_core.object as cpobject"
   ]
  },
  {
   "cell_type": "markdown",
   "metadata": {},
   "source": [
    "*Step 2: User Inputs*"
   ]
  },
  {
   "cell_type": "code",
   "execution_count": 113,
   "metadata": {},
   "outputs": [],
   "source": [
    "data_folder = '/Users/hhelmbre/Desktop/fiberf_data'\n",
    "image_file_type = '.jpg'"
   ]
  },
  {
   "cell_type": "markdown",
   "metadata": {},
   "source": [
    "*Step 3: Threshold and Segment Images*"
   ]
  },
  {
   "cell_type": "markdown",
   "metadata": {},
   "source": [
    "Step 3a: Import and threshold images from 'data_folder'"
   ]
  },
  {
   "cell_type": "code",
   "execution_count": 114,
   "metadata": {},
   "outputs": [],
   "source": [
    "image_list = os.listdir(data_folder)\n",
    "image_list = np.asarray(image_list)"
   ]
  },
  {
   "cell_type": "markdown",
   "metadata": {},
   "source": [
    "*Removing anything that isn't an image from the image list*"
   ]
  },
  {
   "cell_type": "code",
   "execution_count": 115,
   "metadata": {},
   "outputs": [],
   "source": [
    "k=0\n",
    "for images in image_list:\n",
    "    if image_file_type in str(images):\n",
    "        k+=1\n",
    "    else:\n",
    "        image_list = np.delete(image_list, (k), axis=0)"
   ]
  },
  {
   "cell_type": "markdown",
   "metadata": {},
   "source": [
    "*back to what will be the main code*"
   ]
  },
  {
   "cell_type": "markdown",
   "metadata": {},
   "source": [
    "*need to go in and add code to create a reasonable cut off for the min_size remove small objects*"
   ]
  },
  {
   "cell_type": "markdown",
   "metadata": {},
   "source": [
    "*Go in and add code that does a better job at separating overlapping cells (maybe this is just in thresholding*)"
   ]
  },
  {
   "cell_type": "code",
   "execution_count": 134,
   "metadata": {},
   "outputs": [],
   "source": [
    "#Creating a folder for the new tresholded images\n",
    "os.mkdir(str(data_folder + '/' + 'threshold_applied_images'))\n",
    "\n",
    "#initializing a pandas dataframe\n",
    "overall_region_meas = pd.DataFrame(columns = ['Filename', 'ImageID', 'ObjectID', 'X', 'Y', 'Area', 'Perimeter', 'Major Axis', 'Minor Axis', 'Circularity', 'Aspect Ratio'])\n",
    "\n",
    "#initializing a count\n",
    "k=1\n",
    "\n",
    "#Looping through all images in list (this task should be put to multiple CPUs in future if a large data set)\n",
    "for images in image_list:\n",
    "    \n",
    "    \n",
    "    #initializing a pandas data frame for measurement data\n",
    "    region_meas = pd.DataFrame()\n",
    "    \n",
    "    #Going through each of the images to get their binarized images and measurement info\n",
    "    name = str(data_folder + '/' + images)\n",
    "    im = io.imread(name)\n",
    "    im = im[:,:,2]\n",
    "    threshold = filters.threshold_otsu(im)\n",
    "    binary = morphology.closing(im < threshold, morphology.square(5))\n",
    "    label_image = measure.label(binary, return_num=False, connectivity=2)\n",
    "    binary2 = morphology.remove_small_objects(label_image, min_size=400, connectivity=2, in_place=True)\n",
    "    invert_binary2 = np.invert(binary2)\n",
    "    \n",
    "    # Saving the thresheld images to their own folder with modified names\n",
    "    im_to_save = Image.fromarray(np.uint8(binary2), mode='L')\n",
    "    new_name = str(data_folder + '/' + 'threshold_applied_images' + '/' + images)\n",
    "    new_name = new_name.replace('.jpg','_threshold.jpg')\n",
    "    im_to_save.save(new_name)\n",
    "    \n",
    "    \n",
    "    #Saving the region properties as a csv\n",
    "    props = measure.regionprops_table(binary2, properties= ('centroid', 'area', 'perimeter', 'major_axis_length', 'minor_axis_length'))\n",
    "    props_meas = pd.DataFrame(props)\n",
    "    region_meas['X'] = props_meas['centroid-0']\n",
    "    region_meas['Y'] = props_meas['centroid-1']\n",
    "    region_meas['Area'] = props_meas['area']\n",
    "    region_meas['Perimeter'] = props_meas['perimeter']\n",
    "    region_meas['Major Axis'] = props_meas['major_axis_length']\n",
    "    region_meas['Minor Axis'] = props_meas['minor_axis_length']\n",
    "    region_meas['Circularity'] = (region_meas['Area']*4*np.pi)/(region_meas['Perimeter']**2)\n",
    "    region_meas['Aspect Ratio'] = (region_meas['Major Axis']/region_meas['Minor Axis'])\n",
    "    region_meas.insert(0, 'Filename', images)\n",
    "    region_meas.insert(1, 'ImageID', k)\n",
    "    region_meas.insert(2, 'ObjectID', np.arange(len(region_meas)))\n",
    "\n",
    "    overall_region_meas = overall_region_meas.append(region_meas)\n",
    "    k+=1\n",
    "\n",
    "path = '/Users/hhelmbre/Desktop/fiberf_data/threshold_applied_images/'\n",
    "overall_region_meas.to_csv(path+'c1_registry.csv', index=False)\n",
    "                           "
   ]
  },
  {
   "cell_type": "markdown",
   "metadata": {},
   "source": [
    "# Step 3: Vampire with Desktop Cell Profiler Steps"
   ]
  },
  {
   "cell_type": "code",
   "execution_count": null,
   "metadata": {},
   "outputs": [],
   "source": []
  },
  {
   "cell_type": "code",
   "execution_count": null,
   "metadata": {},
   "outputs": [],
   "source": []
  },
  {
   "cell_type": "markdown",
   "metadata": {},
   "source": [
    "# Step 4: Cell Profiler Steps "
   ]
  },
  {
   "cell_type": "markdown",
   "metadata": {},
   "source": [
    "What I ended up doing to get it working to this point:\n",
    "1. Created a conda virtual environment\n",
    "2. Conda installed all the necessary pacakges accordign to the setup.py file on the CellProfiler github\n",
    "3. Then used the instructions to pip install a github package from the \"actual\" but useless Cell Profiler install instructions on their wiki\n",
    "4. the secret! for success is that when using Java you have to change the home directory to where the JDK java install was actually put and then within there to the JVM folder> contents> home. \n",
    "\n",
    "I do not think this is permanent. I believe I have to do it every time unless I officially change the path.\n",
    "\n",
    "next steps: Figure out how to actually use cell profiler without the GUI for what we need it for.\n",
    "\n",
    "6-7-2020: with the daily Java Home restate it seems to be working. The next challenge is to recreate what we have been doing in the GUI within this notebook so its high throughput"
   ]
  },
  {
   "cell_type": "markdown",
   "metadata": {},
   "source": [
    "*Steps From the Actual GUI*\n",
    "1. Images Module\n",
    "2. Metadata Module\n",
    "3. Names and Types Module\n",
    "4. Groups Module\n",
    "5. Indentify Primary Objects (nuclei) - This may not be possible unless there is a coordinate system in NDP\n",
    "6. Measure Object Size Shape\n",
    "7. Convert Objects to Image\n",
    "8. SaveImages\n",
    "9. Identify Secondary Objects\n",
    "10. Measure Object Size Shape\n",
    "11. ConvertObjectstoImage\n",
    "12. SaveImages\n",
    "13. ExporttoSpreadsheet"
   ]
  },
  {
   "cell_type": "markdown",
   "metadata": {},
   "source": [
    "6/16/2020 update:\n",
    "\n",
    "I tried using the cellprofiler desktop with my own thresholdinga dn it si still bad. Clearly the program isn't meant for my type of thresholding? or I don't use the program well enough? Maybe it doesn't work in tissue. i have to make the decision between where I think my time should go (I am super frustrated lol)"
   ]
  },
  {
   "cell_type": "markdown",
   "metadata": {},
   "source": [
    "*Cell Profiler Inputs*"
   ]
  },
  {
   "cell_type": "code",
   "execution_count": 9,
   "metadata": {},
   "outputs": [],
   "source": [
    "#User input pipeline to try and get this thing working\n",
    "pipeline = '/Users/hhelmbre/Desktop/vampire_experiments/Supplementary\\ files/Workflow\\ for\\ VAMPIRE.cppipe'"
   ]
  },
  {
   "cell_type": "markdown",
   "metadata": {},
   "source": [
    "*Create the CellProfiler Workspace*"
   ]
  },
  {
   "cell_type": "code",
   "execution_count": 11,
   "metadata": {},
   "outputs": [],
   "source": [
    "#initializing that measurements equals none (reads incorrectly if done in workspace below)\n",
    "measurements=None"
   ]
  },
  {
   "cell_type": "code",
   "execution_count": 24,
   "metadata": {},
   "outputs": [],
   "source": [
    "#ImageSet = workspace.Workspace.image_set\n",
    "#ObjectSet = workspace.Workspace.object_set\n",
    "\n",
    "ImageSet = cpimage._image_set.ImageSet\n",
    "ObjectSet = cpobject._object_set.ObjectSet"
   ]
  },
  {
   "cell_type": "code",
   "execution_count": 25,
   "metadata": {},
   "outputs": [],
   "source": [
    "\n",
    "workspaced = workspace.Workspace(pipeline, cpm_ipo, ImageSet, ObjectSet, measurements, image_list, frame=None, create_new_window=False, outlines=None)"
   ]
  },
  {
   "cell_type": "code",
   "execution_count": null,
   "metadata": {},
   "outputs": [],
   "source": []
  },
  {
   "cell_type": "code",
   "execution_count": null,
   "metadata": {},
   "outputs": [],
   "source": []
  },
  {
   "cell_type": "markdown",
   "metadata": {},
   "source": [
    "*Apply a threshold - this may be able to be done during IdentifyPrimaryObjects so may be deleted*"
   ]
  },
  {
   "cell_type": "code",
   "execution_count": 21,
   "metadata": {},
   "outputs": [],
   "source": [
    "threshold = cpmthreshold.Threshold()"
   ]
  },
  {
   "cell_type": "code",
   "execution_count": 22,
   "metadata": {},
   "outputs": [
    {
     "ename": "TypeError",
     "evalue": "apply_threshold() missing 2 required positional arguments: 'image' and 'threshold'",
     "output_type": "error",
     "traceback": [
      "\u001b[0;31m---------------------------------------------------------------------------\u001b[0m",
      "\u001b[0;31mTypeError\u001b[0m                                 Traceback (most recent call last)",
      "\u001b[0;32m<ipython-input-22-bdc0efa61108>\u001b[0m in \u001b[0;36m<module>\u001b[0;34m\u001b[0m\n\u001b[0;32m----> 1\u001b[0;31m \u001b[0mthreshold\u001b[0m\u001b[0;34m.\u001b[0m\u001b[0mapply_threshold\u001b[0m\u001b[0;34m(\u001b[0m\u001b[0;34m)\u001b[0m\u001b[0;34m\u001b[0m\u001b[0;34m\u001b[0m\u001b[0m\n\u001b[0m",
      "\u001b[0;31mTypeError\u001b[0m: apply_threshold() missing 2 required positional arguments: 'image' and 'threshold'"
     ]
    }
   ],
   "source": [
    "threshold.apply_threshold()"
   ]
  },
  {
   "cell_type": "code",
   "execution_count": null,
   "metadata": {},
   "outputs": [],
   "source": []
  },
  {
   "cell_type": "markdown",
   "metadata": {},
   "source": [
    "*Identifying the nuclei of pictures*"
   ]
  },
  {
   "cell_type": "code",
   "execution_count": 30,
   "metadata": {},
   "outputs": [],
   "source": []
  },
  {
   "cell_type": "code",
   "execution_count": 31,
   "metadata": {},
   "outputs": [
    {
     "ename": "TypeError",
     "evalue": "get_image() missing 1 required positional argument: 'name'",
     "output_type": "error",
     "traceback": [
      "\u001b[0;31m---------------------------------------------------------------------------\u001b[0m",
      "\u001b[0;31mTypeError\u001b[0m                                 Traceback (most recent call last)",
      "\u001b[0;32m<ipython-input-31-e1fde7905a3f>\u001b[0m in \u001b[0;36m<module>\u001b[0;34m\u001b[0m\n\u001b[1;32m      1\u001b[0m \u001b[0mnuclei_identification\u001b[0m \u001b[0;34m=\u001b[0m \u001b[0mcpm_ipo\u001b[0m\u001b[0;34m.\u001b[0m\u001b[0mIdentifyPrimaryObjects\u001b[0m\u001b[0;34m(\u001b[0m\u001b[0;34m)\u001b[0m\u001b[0;34m\u001b[0m\u001b[0;34m\u001b[0m\u001b[0m\n\u001b[0;32m----> 2\u001b[0;31m \u001b[0mnuclei_identification\u001b[0m\u001b[0;34m.\u001b[0m\u001b[0mrun\u001b[0m\u001b[0;34m(\u001b[0m\u001b[0mworkspaced\u001b[0m\u001b[0;34m)\u001b[0m\u001b[0;34m\u001b[0m\u001b[0;34m\u001b[0m\u001b[0m\n\u001b[0m",
      "\u001b[0;32m~/opt/anaconda3/envs/cellpro/lib/python3.8/site-packages/cellprofiler/modules/identifyprimaryobjects.py\u001b[0m in \u001b[0;36mrun\u001b[0;34m(self, workspace)\u001b[0m\n\u001b[1;32m   1051\u001b[0m     \u001b[0;32mdef\u001b[0m \u001b[0mrun\u001b[0m\u001b[0;34m(\u001b[0m\u001b[0mself\u001b[0m\u001b[0;34m,\u001b[0m \u001b[0mworkspace\u001b[0m\u001b[0;34m)\u001b[0m\u001b[0;34m:\u001b[0m\u001b[0;34m\u001b[0m\u001b[0;34m\u001b[0m\u001b[0m\n\u001b[1;32m   1052\u001b[0m         \u001b[0mimage_name\u001b[0m \u001b[0;34m=\u001b[0m \u001b[0mself\u001b[0m\u001b[0;34m.\u001b[0m\u001b[0mx_name\u001b[0m\u001b[0;34m.\u001b[0m\u001b[0mvalue\u001b[0m\u001b[0;34m\u001b[0m\u001b[0;34m\u001b[0m\u001b[0m\n\u001b[0;32m-> 1053\u001b[0;31m         \u001b[0mimage\u001b[0m \u001b[0;34m=\u001b[0m \u001b[0mworkspace\u001b[0m\u001b[0;34m.\u001b[0m\u001b[0mimage_set\u001b[0m\u001b[0;34m.\u001b[0m\u001b[0mget_image\u001b[0m\u001b[0;34m(\u001b[0m\u001b[0mimage_name\u001b[0m\u001b[0;34m)\u001b[0m\u001b[0;34m\u001b[0m\u001b[0;34m\u001b[0m\u001b[0m\n\u001b[0m\u001b[1;32m   1054\u001b[0m         \u001b[0mworkspace\u001b[0m\u001b[0;34m.\u001b[0m\u001b[0mdisplay_data\u001b[0m\u001b[0;34m.\u001b[0m\u001b[0mstatistics\u001b[0m \u001b[0;34m=\u001b[0m \u001b[0;34m[\u001b[0m\u001b[0;34m]\u001b[0m\u001b[0;34m\u001b[0m\u001b[0;34m\u001b[0m\u001b[0m\n\u001b[1;32m   1055\u001b[0m         binary_image, global_threshold, sigma = self._threshold_image(\n",
      "\u001b[0;31mTypeError\u001b[0m: get_image() missing 1 required positional argument: 'name'"
     ]
    }
   ],
   "source": [
    "nuclei_identification = cpm_ipo.IdentifyPrimaryObjects()\n",
    "nuclei_identification.run(workspaced)"
   ]
  },
  {
   "cell_type": "code",
   "execution_count": null,
   "metadata": {},
   "outputs": [],
   "source": []
  },
  {
   "cell_type": "markdown",
   "metadata": {},
   "source": [
    "*Trying something different from (https://github.com/CellProfiler/notebooks/blob/master/cellprofiler_demo.ipynb)*"
   ]
  },
  {
   "cell_type": "code",
   "execution_count": 15,
   "metadata": {},
   "outputs": [],
   "source": [
    "#Edited these from their notebook tutorial to be 'cellprofiler_core' instead of 'cellprofiler' only\n",
    "import cellprofiler_core.image\n",
    "import cellprofiler_core.measurement\n",
    "import cellprofiler_core.object\n",
    "import cellprofiler_core.pipeline\n",
    "import cellprofiler_core.preferences\n",
    "import cellprofiler_core.workspace"
   ]
  },
  {
   "cell_type": "code",
   "execution_count": 16,
   "metadata": {},
   "outputs": [],
   "source": [
    "def run_pipeline(pipeline_filename, image_dict):\n",
    "    cellprofiler_core.preferences.set_headless()\n",
    "    \n",
    "    # Create and load the pipeline\n",
    "    pipeline = cellprofiler_core.pipeline._pipeline.Pipeline()\n",
    "    pipeline.load(pipeline_filename)\n",
    "    \n",
    "    # Create the image set, and add the image data\n",
    "    image_set_list = cellprofiler_core.image.ImageSetList()\n",
    "    image_set = image_set_list.get_image_set(0)\n",
    "    for image_name, input_pixels in image_dict.items():\n",
    "        image_set.add(image_name, cellprofiler_core.image.Image(input_pixels))\n",
    "        \n",
    "    # Persist the object set here (for now, see workspace TODO)\n",
    "    object_set = cellprofiler_core.object.ObjectSet()\n",
    "\n",
    "    # We can only run one group -- set the group index to 1.\n",
    "    measurements = cellprofiler_core.measurement.Measurements()\n",
    "    measurements.group_index = 1\n",
    "\n",
    "    # Run the modules!\n",
    "    for module in pipeline.modules():\n",
    "        # Yes, we really do have to create a new workspace for each module\n",
    "        # because the module attribute is required. Go team.\n",
    "        workspace = cellprofiler_core.workspace.Workspace(\n",
    "            image_set=image_set,\n",
    "            image_set_list=image_set_list,\n",
    "            measurements=measurements, \n",
    "            module=module,\n",
    "            object_set=object_set, \n",
    "            pipeline=pipeline\n",
    "        )\n",
    "        \n",
    "        module.prepare_run(workspace)\n",
    "        module.run(workspace)\n",
    "        module.post_run(workspace)\n",
    "    \n",
    "    # The workspace object has access to the measurements\n",
    "    # and the image set/image set list which can be used\n",
    "    # to use/view/store/whatever output data.\n",
    "    return workspace\n"
   ]
  },
  {
   "cell_type": "code",
   "execution_count": 17,
   "metadata": {},
   "outputs": [],
   "source": [
    "def objects2df(measurements, objects_name):\n",
    "    features = measurements.get_feature_names(objects_name)\n",
    "    \n",
    "    n_features = len(features)\n",
    "    n_objects = int(measurements.get_measurement(\"Image\", \"Count_{}\".format(objects_name)))\n",
    "    \n",
    "    data = np.empty((n_objects, n_features))\n",
    "    \n",
    "    for feature_idx, feature in enumerate(features):\n",
    "        data[:, feature_idx] = measurements.get_measurement(objects_name, feature)\n",
    "    \n",
    "    return pd.DataFrame(\n",
    "        data=data,\n",
    "        index=np.arange(1, n_objects + 1),\n",
    "        columns=features\n",
    "    )"
   ]
  },
  {
   "cell_type": "code",
   "execution_count": 22,
   "metadata": {},
   "outputs": [],
   "source": [
    "# This should match what NamesAndTypes would produce.\n",
    "images = {\n",
    "    #\"OrigBlue\": skimage.io.imread(\"data/images/01_POS002_D.TIF\"),\n",
    "    \"OrigGreen\": io.imread(str('/Users/hhelmbre/Desktop/fiberf_data/' + image_list[0])),\n",
    "    #\"OrigRed\": skimage.io.imread(\"data/images/01_POS002_R.TIF\")\n",
    "}\n",
    "\n",
    "pipeline_filename = \"/Users/hhelmbre/Downloads/ExampleHuman/ExampleHuman.cppipe\""
   ]
  },
  {
   "cell_type": "markdown",
   "metadata": {},
   "source": [
    "*Checking something for javabridge*"
   ]
  },
  {
   "cell_type": "code",
   "execution_count": 20,
   "metadata": {},
   "outputs": [],
   "source": [
    "import javabridge\n",
    "import bioformats\n",
    "import os\n",
    "javabridge.start_vm(class_path=bioformats.JARS)\n",
    "classpath = javabridge.JClassWrapper('java.lang.System').getProperty('java.class.path')\n",
    "#for path in classpath.split(os.pathsep):\n",
    "    #print (str((\"exists: \" if os.path.isfile(path) else \"missing: \") + path))\n"
   ]
  },
  {
   "cell_type": "markdown",
   "metadata": {},
   "source": [
    "*The above gets the session to run and brings up a new error*"
   ]
  },
  {
   "cell_type": "markdown",
   "metadata": {},
   "source": [
    "*back to it*"
   ]
  },
  {
   "cell_type": "code",
   "execution_count": 28,
   "metadata": {},
   "outputs": [
    {
     "ename": "JavaException",
     "evalue": "org.cellprofiler.imageset.ImageFile",
     "output_type": "error",
     "traceback": [
      "\u001b[0;31m---------------------------------------------------------------------------\u001b[0m",
      "\u001b[0;31mJavaException\u001b[0m                             Traceback (most recent call last)",
      "\u001b[0;32m<ipython-input-28-cfb2eda5aa0f>\u001b[0m in \u001b[0;36m<module>\u001b[0;34m\u001b[0m\n\u001b[0;32m----> 1\u001b[0;31m \u001b[0mworkspace\u001b[0m \u001b[0;34m=\u001b[0m \u001b[0mrun_pipeline\u001b[0m\u001b[0;34m(\u001b[0m\u001b[0mpipeline_filename\u001b[0m\u001b[0;34m,\u001b[0m \u001b[0mimages\u001b[0m\u001b[0;34m)\u001b[0m\u001b[0;34m\u001b[0m\u001b[0;34m\u001b[0m\u001b[0m\n\u001b[0m",
      "\u001b[0;32m<ipython-input-16-6d7406d1d9e0>\u001b[0m in \u001b[0;36mrun_pipeline\u001b[0;34m(pipeline_filename, image_dict)\u001b[0m\n\u001b[1;32m     32\u001b[0m         )\n\u001b[1;32m     33\u001b[0m \u001b[0;34m\u001b[0m\u001b[0m\n\u001b[0;32m---> 34\u001b[0;31m         \u001b[0mmodule\u001b[0m\u001b[0;34m.\u001b[0m\u001b[0mprepare_run\u001b[0m\u001b[0;34m(\u001b[0m\u001b[0mworkspace\u001b[0m\u001b[0;34m)\u001b[0m\u001b[0;34m\u001b[0m\u001b[0;34m\u001b[0m\u001b[0m\n\u001b[0m\u001b[1;32m     35\u001b[0m         \u001b[0mmodule\u001b[0m\u001b[0;34m.\u001b[0m\u001b[0mrun\u001b[0m\u001b[0;34m(\u001b[0m\u001b[0mworkspace\u001b[0m\u001b[0;34m)\u001b[0m\u001b[0;34m\u001b[0m\u001b[0;34m\u001b[0m\u001b[0m\n\u001b[1;32m     36\u001b[0m         \u001b[0mmodule\u001b[0m\u001b[0;34m.\u001b[0m\u001b[0mpost_run\u001b[0m\u001b[0;34m(\u001b[0m\u001b[0mworkspace\u001b[0m\u001b[0;34m)\u001b[0m\u001b[0;34m\u001b[0m\u001b[0;34m\u001b[0m\u001b[0m\n",
      "\u001b[0;32m~/opt/anaconda3/envs/cellpro/lib/python3.8/site-packages/cellprofiler_core/modules/images.py\u001b[0m in \u001b[0;36mprepare_run\u001b[0;34m(self, workspace)\u001b[0m\n\u001b[1;32m    347\u001b[0m                 \u001b[0mexpression\u001b[0m \u001b[0;34m=\u001b[0m \u001b[0mself\u001b[0m\u001b[0;34m.\u001b[0m\u001b[0mfilter\u001b[0m\u001b[0;34m.\u001b[0m\u001b[0mvalue_text\u001b[0m\u001b[0;34m\u001b[0m\u001b[0;34m\u001b[0m\u001b[0m\n\u001b[1;32m    348\u001b[0m             \u001b[0menv\u001b[0m \u001b[0;34m=\u001b[0m \u001b[0mjavabridge\u001b[0m\u001b[0;34m.\u001b[0m\u001b[0mget_env\u001b[0m\u001b[0;34m(\u001b[0m\u001b[0;34m)\u001b[0m\u001b[0;34m\u001b[0m\u001b[0;34m\u001b[0m\u001b[0m\n\u001b[0;32m--> 349\u001b[0;31m             \u001b[0mifcls\u001b[0m \u001b[0;34m=\u001b[0m \u001b[0mjavabridge\u001b[0m\u001b[0;34m.\u001b[0m\u001b[0mclass_for_name\u001b[0m\u001b[0;34m(\u001b[0m\u001b[0;34m\"org.cellprofiler.imageset.ImageFile\"\u001b[0m\u001b[0;34m)\u001b[0m\u001b[0;34m\u001b[0m\u001b[0;34m\u001b[0m\u001b[0m\n\u001b[0m\u001b[1;32m    350\u001b[0m             \u001b[0mscls\u001b[0m \u001b[0;34m=\u001b[0m \u001b[0menv\u001b[0m\u001b[0;34m.\u001b[0m\u001b[0mfind_class\u001b[0m\u001b[0;34m(\u001b[0m\u001b[0;34m\"java/lang/String\"\u001b[0m\u001b[0;34m)\u001b[0m\u001b[0;34m\u001b[0m\u001b[0;34m\u001b[0m\u001b[0m\n\u001b[1;32m    351\u001b[0m             iffilter = javabridge.make_instance(\n",
      "\u001b[0;32m~/opt/anaconda3/envs/cellpro/lib/python3.8/site-packages/javabridge/jutil.py\u001b[0m in \u001b[0;36mclass_for_name\u001b[0;34m(classname, ldr)\u001b[0m\n\u001b[1;32m   1738\u001b[0m         ldr = static_call('java/lang/ClassLoader', 'getSystemClassLoader',\n\u001b[1;32m   1739\u001b[0m                           '()Ljava/lang/ClassLoader;')\n\u001b[0;32m-> 1740\u001b[0;31m     return static_call('java/lang/Class', 'forName', \n\u001b[0m\u001b[1;32m   1741\u001b[0m                        \u001b[0;34m'(Ljava/lang/String;ZLjava/lang/ClassLoader;)'\u001b[0m\u001b[0;34m\u001b[0m\u001b[0;34m\u001b[0m\u001b[0m\n\u001b[1;32m   1742\u001b[0m                        \u001b[0;34m'Ljava/lang/Class;'\u001b[0m\u001b[0;34m,\u001b[0m\u001b[0;34m\u001b[0m\u001b[0;34m\u001b[0m\u001b[0m\n",
      "\u001b[0;32m~/opt/anaconda3/envs/cellpro/lib/python3.8/site-packages/javabridge/jutil.py\u001b[0m in \u001b[0;36mstatic_call\u001b[0;34m(class_name, method_name, sig, *args)\u001b[0m\n\u001b[1;32m    936\u001b[0m     \u001b[0mret_sig\u001b[0m \u001b[0;34m=\u001b[0m \u001b[0msig\u001b[0m\u001b[0;34m[\u001b[0m\u001b[0msig\u001b[0m\u001b[0;34m.\u001b[0m\u001b[0mfind\u001b[0m\u001b[0;34m(\u001b[0m\u001b[0;34m')'\u001b[0m\u001b[0;34m)\u001b[0m\u001b[0;34m+\u001b[0m\u001b[0;36m1\u001b[0m\u001b[0;34m:\u001b[0m\u001b[0;34m]\u001b[0m\u001b[0;34m\u001b[0m\u001b[0;34m\u001b[0m\u001b[0m\n\u001b[1;32m    937\u001b[0m     \u001b[0mnice_args\u001b[0m \u001b[0;34m=\u001b[0m \u001b[0mget_nice_args\u001b[0m\u001b[0;34m(\u001b[0m\u001b[0margs\u001b[0m\u001b[0;34m,\u001b[0m \u001b[0margs_sig\u001b[0m\u001b[0;34m)\u001b[0m\u001b[0;34m\u001b[0m\u001b[0;34m\u001b[0m\u001b[0m\n\u001b[0;32m--> 938\u001b[0;31m     \u001b[0mresult\u001b[0m \u001b[0;34m=\u001b[0m \u001b[0mfn\u001b[0m\u001b[0;34m(\u001b[0m\u001b[0;34m*\u001b[0m\u001b[0mnice_args\u001b[0m\u001b[0;34m)\u001b[0m\u001b[0;34m\u001b[0m\u001b[0;34m\u001b[0m\u001b[0m\n\u001b[0m\u001b[1;32m    939\u001b[0m     \u001b[0;32mreturn\u001b[0m \u001b[0mget_nice_result\u001b[0m\u001b[0;34m(\u001b[0m\u001b[0mresult\u001b[0m\u001b[0;34m,\u001b[0m \u001b[0mret_sig\u001b[0m\u001b[0;34m)\u001b[0m\u001b[0;34m\u001b[0m\u001b[0;34m\u001b[0m\u001b[0m\n\u001b[1;32m    940\u001b[0m \u001b[0;34m\u001b[0m\u001b[0m\n",
      "\u001b[0;32m~/opt/anaconda3/envs/cellpro/lib/python3.8/site-packages/javabridge/jutil.py\u001b[0m in \u001b[0;36mfn\u001b[0;34m(*args)\u001b[0m\n\u001b[1;32m    916\u001b[0m         \u001b[0mjexception\u001b[0m \u001b[0;34m=\u001b[0m \u001b[0menv\u001b[0m\u001b[0;34m.\u001b[0m\u001b[0mexception_occurred\u001b[0m\u001b[0;34m(\u001b[0m\u001b[0;34m)\u001b[0m\u001b[0;34m\u001b[0m\u001b[0;34m\u001b[0m\u001b[0m\n\u001b[1;32m    917\u001b[0m         \u001b[0;32mif\u001b[0m \u001b[0mjexception\u001b[0m \u001b[0;32mis\u001b[0m \u001b[0;32mnot\u001b[0m \u001b[0;32mNone\u001b[0m\u001b[0;34m:\u001b[0m\u001b[0;34m\u001b[0m\u001b[0;34m\u001b[0m\u001b[0m\n\u001b[0;32m--> 918\u001b[0;31m             \u001b[0;32mraise\u001b[0m \u001b[0mJavaException\u001b[0m\u001b[0;34m(\u001b[0m\u001b[0mjexception\u001b[0m\u001b[0;34m)\u001b[0m\u001b[0;34m\u001b[0m\u001b[0;34m\u001b[0m\u001b[0m\n\u001b[0m\u001b[1;32m    919\u001b[0m         \u001b[0;32mreturn\u001b[0m \u001b[0mresult\u001b[0m\u001b[0;34m\u001b[0m\u001b[0;34m\u001b[0m\u001b[0m\n\u001b[1;32m    920\u001b[0m     \u001b[0;32mreturn\u001b[0m \u001b[0mfn\u001b[0m\u001b[0;34m\u001b[0m\u001b[0;34m\u001b[0m\u001b[0m\n",
      "\u001b[0;31mJavaException\u001b[0m: org.cellprofiler.imageset.ImageFile"
     ]
    }
   ],
   "source": [
    "workspace = run_pipeline(pipeline_filename, images)"
   ]
  },
  {
   "cell_type": "code",
   "execution_count": 27,
   "metadata": {},
   "outputs": [
    {
     "ename": "NameError",
     "evalue": "name 'workspaced' is not defined",
     "output_type": "error",
     "traceback": [
      "\u001b[0;31m---------------------------------------------------------------------------\u001b[0m",
      "\u001b[0;31mNameError\u001b[0m                                 Traceback (most recent call last)",
      "\u001b[0;32m<ipython-input-27-a126c2a7ac9d>\u001b[0m in \u001b[0;36m<module>\u001b[0;34m\u001b[0m\n\u001b[0;32m----> 1\u001b[0;31m \u001b[0mdf\u001b[0m \u001b[0;34m=\u001b[0m \u001b[0mobjects2df\u001b[0m\u001b[0;34m(\u001b[0m\u001b[0mworkspaced\u001b[0m\u001b[0;34m.\u001b[0m\u001b[0mmeasurements\u001b[0m\u001b[0;34m,\u001b[0m \u001b[0;34m\"Nuclei\"\u001b[0m\u001b[0;34m)\u001b[0m\u001b[0;34m\u001b[0m\u001b[0;34m\u001b[0m\u001b[0m\n\u001b[0m\u001b[1;32m      2\u001b[0m \u001b[0mdf\u001b[0m\u001b[0;34m.\u001b[0m\u001b[0mhead\u001b[0m\u001b[0;34m(\u001b[0m\u001b[0;34m)\u001b[0m\u001b[0;34m\u001b[0m\u001b[0;34m\u001b[0m\u001b[0m\n",
      "\u001b[0;31mNameError\u001b[0m: name 'workspaced' is not defined"
     ]
    }
   ],
   "source": [
    "df = objects2df(workspace.measurements, \"Nuclei\")\n",
    "df.head()"
   ]
  },
  {
   "cell_type": "code",
   "execution_count": null,
   "metadata": {},
   "outputs": [],
   "source": []
  },
  {
   "cell_type": "markdown",
   "metadata": {},
   "source": [
    "*Step 5: Train and Test Split Images*"
   ]
  },
  {
   "cell_type": "code",
   "execution_count": null,
   "metadata": {},
   "outputs": [],
   "source": []
  },
  {
   "cell_type": "markdown",
   "metadata": {},
   "source": [
    "*Step 6: Build model using VAMPIRE*"
   ]
  },
  {
   "cell_type": "markdown",
   "metadata": {},
   "source": [
    "*Step 7: Apply model using VAMPIRE*"
   ]
  },
  {
   "cell_type": "code",
   "execution_count": null,
   "metadata": {},
   "outputs": [],
   "source": []
  },
  {
   "cell_type": "markdown",
   "metadata": {},
   "source": [
    "*Step 8: New visualization of VAMPIRE data*"
   ]
  },
  {
   "cell_type": "markdown",
   "metadata": {},
   "source": [
    "- This should probably be built into VAMPIRE and not just into this notebook - think about this for the future"
   ]
  },
  {
   "cell_type": "code",
   "execution_count": null,
   "metadata": {},
   "outputs": [],
   "source": []
  }
 ],
 "metadata": {
  "kernelspec": {
   "display_name": "Python 3",
   "language": "python",
   "name": "python3"
  },
  "language_info": {
   "codemirror_mode": {
    "name": "ipython",
    "version": 3
   },
   "file_extension": ".py",
   "mimetype": "text/x-python",
   "name": "python",
   "nbconvert_exporter": "python",
   "pygments_lexer": "ipython3",
   "version": "3.8.3"
  }
 },
 "nbformat": 4,
 "nbformat_minor": 4
}
